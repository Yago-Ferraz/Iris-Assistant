{
 "cells": [
  {
   "cell_type": "code",
   "execution_count": null,
   "id": "fc210196",
   "metadata": {},
   "outputs": [
    {
     "name": "stdout",
     "output_type": "stream",
     "text": [
      "Aumento de dados concluído!\n"
     ]
    }
   ],
   "source": [
    "import os\n",
    "import random\n",
    "import numpy as np\n",
    "import librosa\n",
    "import soundfile as sf\n",
    "from pydub import AudioSegment\n",
    "\n",
    "\n",
    "INPUT_DIR = \"datas/positiva normalizada\"\n",
    "OUTPUT_DIR = \"datas/wake_word_augmented\"\n",
    "\n",
    "os.makedirs(OUTPUT_DIR, exist_ok=True)\n",
    "\n",
    "# Funções de aumento\n",
    "def add_noise(y, noise_level=0.005):\n",
    "    noise = np.random.randn(len(y))\n",
    "    return y + noise_level * noise\n",
    "\n",
    "def change_pitch(y, sr, n_steps):\n",
    "    try:\n",
    "        from librosa import AudioData\n",
    "        \n",
    "        x = AudioData(y, sr=sr)\n",
    "        x_shifted = librosa.effects.pitch_shift(x, n_steps=n_steps)\n",
    "        return x_shifted.get_array()\n",
    "    except ImportError:\n",
    "        # fallback para librosa < 0.10\n",
    "        return librosa.effects.pitch_shift(y, sr=sr, n_steps=n_steps)\n",
    "\n",
    "def change_speed(y, rate):\n",
    "    return librosa.effects.time_stretch(y,rate=rate)\n",
    "\n",
    "def change_volume(y, gain_dB):\n",
    "    return y * (10 ** (gain_dB / 20))\n",
    "\n",
    "# Processar todos os arquivos\n",
    "for fname in os.listdir(INPUT_DIR):\n",
    "    if not fname.lower().endswith(\".wav\"):\n",
    "        continue\n",
    "\n",
    "    mp3_path = os.path.join(INPUT_DIR, fname)\n",
    "    base_name = os.path.splitext(fname)[0]\n",
    "\n",
    "    # Ler MP3 com pydub e converter para array\n",
    "    audio = AudioSegment.from_mp3(mp3_path).set_channels(1).set_frame_rate(16000)\n",
    "    samples = np.array(audio.get_array_of_samples()).astype(np.float32) / 32768.0\n",
    "    sr = 16000\n",
    "\n",
    "    # Salvar original em WAV\n",
    "    sf.write(os.path.join(OUTPUT_DIR, f\"{base_name}_orig.wav\"), samples, sr)\n",
    "\n",
    "    for i in range(5):  # gera 5 variações por arquivo\n",
    "        y_aug = samples.copy()\n",
    "\n",
    "        if random.random() < 0.5:\n",
    "            y_aug = add_noise(y_aug, noise_level=random.uniform(0.002, 0.01))\n",
    "\n",
    "        if random.random() < 0.5:\n",
    "            y_aug = change_pitch(y_aug, sr, n_steps=random.uniform(-1, 1))\n",
    "\n",
    "        if random.random() < 0.5:\n",
    "            y_aug = change_speed(y_aug, rate=random.uniform(0.9, 1.1))\n",
    "\n",
    "        if random.random() < 0.5:\n",
    "            y_aug = change_volume(y_aug, gain_dB=random.uniform(-3, 3))\n",
    "\n",
    "        out_fname = os.path.join(OUTPUT_DIR, f\"{base_name}_aug{i+1}.wav\")\n",
    "        sf.write(out_fname, y_aug, sr)\n",
    "\n",
    "print(\"Aumento de dados concluído!\")\n"
   ]
  }
 ],
 "metadata": {
  "kernelspec": {
   "display_name": "venv",
   "language": "python",
   "name": "python3"
  },
  "language_info": {
   "codemirror_mode": {
    "name": "ipython",
    "version": 3
   },
   "file_extension": ".py",
   "mimetype": "text/x-python",
   "name": "python",
   "nbconvert_exporter": "python",
   "pygments_lexer": "ipython3",
   "version": "3.12.4"
  }
 },
 "nbformat": 4,
 "nbformat_minor": 5
}
